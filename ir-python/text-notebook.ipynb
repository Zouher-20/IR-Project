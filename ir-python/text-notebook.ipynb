{
 "cells": [
  {
   "cell_type": "code",
   "execution_count": 6,
   "id": "33e4126f",
   "metadata": {},
   "outputs": [
    {
     "data": {
      "text/plain": [
       "'map surface subsurface planet use comic ray high frequency mamma ray ground base telescope'"
      ]
     },
     "execution_count": 6,
     "metadata": {},
     "output_type": "execute_result"
    }
   ],
   "source": [
    "from TextService import preprocess_text\n",
    "text = \"Can we map the surface (and the subsurface) of a planet using cosmic rays or very high frequency gamma rays with ground based telescopes?\"\n",
    "processed = preprocess_text(text)\n",
    "processed"
   ]
  }
 ],
 "metadata": {
  "kernelspec": {
   "display_name": "Python 3 (ipykernel)",
   "language": "python",
   "name": "python3"
  },
  "language_info": {
   "codemirror_mode": {
    "name": "ipython",
    "version": 3
   },
   "file_extension": ".py",
   "mimetype": "text/x-python",
   "name": "python",
   "nbconvert_exporter": "python",
   "pygments_lexer": "ipython3",
   "version": "3.12.0"
  }
 },
 "nbformat": 4,
 "nbformat_minor": 5
}
