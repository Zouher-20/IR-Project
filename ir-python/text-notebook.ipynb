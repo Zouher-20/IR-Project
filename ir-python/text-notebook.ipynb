{
 "cells": [
  {
   "cell_type": "code",
   "execution_count": 8,
   "id": "33e4126f",
   "metadata": {},
   "outputs": [
    {
     "name": "stdout",
     "output_type": "stream",
     "text": [
      "Refined query: machine political_machine learning acquisition\n"
     ]
    }
   ],
   "source": [
    "import nltk\n",
    "from nltk.corpus import wordnet\n",
    "from nltk.stem import PorterStemmer\n",
    "from nltk import word_tokenize, pos_tag\n",
    "from nltk.wsd import lesk\n",
    "\n",
    "def get_wordnet_pos(treebank_tag):\n",
    "    if treebank_tag.startswith('J'):\n",
    "        return 'a'\n",
    "    elif treebank_tag.startswith('V'):\n",
    "        return 'v'\n",
    "    elif treebank_tag.startswith('N'):\n",
    "        return 'n'\n",
    "    elif treebank_tag.startswith('R'):\n",
    "        return 'r'\n",
    "    else:\n",
    "        return None\n",
    "\n",
    "def query_expansion_wordnet(query):\n",
    "    words = word_tokenize(query)\n",
    "    pos_tags = pos_tag(words)\n",
    "    stemmer = PorterStemmer()\n",
    "\n",
    "    expanded_queries = []\n",
    "    for word, pos in zip(words, pos_tags):\n",
    "        pos = get_wordnet_pos(pos[1])\n",
    "        synsets = wordnet.synsets(word, pos=pos)\n",
    "        if synsets:\n",
    "            correct_synset = lesk(words, word, pos=pos)\n",
    "            if correct_synset:\n",
    "                max_similarity = 0\n",
    "                most_similar_synset = None\n",
    "                for synset in synsets:\n",
    "                    similarity = correct_synset.path_similarity(synset)\n",
    "                    if similarity and similarity > max_similarity:\n",
    "                        max_similarity = similarity\n",
    "                        most_similar_synset = synset\n",
    "                if most_similar_synset:\n",
    "                    expanded_queries.extend(most_similar_synset.lemma_names())  # Extend the list\n",
    "            else:\n",
    "                expanded_queries.append(word)\n",
    "        else:\n",
    "            expanded_queries.append(word)\n",
    "\n",
    "    # Combine expanded terms into a refined query\n",
    "    refined_query = ' '.join(expanded_queries)\n",
    "    return refined_query\n",
    "\n",
    "# Example usage\n",
    "input_query = \"machine learning\"\n",
    "refined_query = query_expansion_wordnet(input_query)\n",
    "print(\"Refined query:\", refined_query)\n"
   ]
  }
 ],
 "metadata": {
  "kernelspec": {
   "display_name": "Python 3 (ipykernel)",
   "language": "python",
   "name": "python3"
  },
  "language_info": {
   "codemirror_mode": {
    "name": "ipython",
    "version": 3
   },
   "file_extension": ".py",
   "mimetype": "text/x-python",
   "name": "python",
   "nbconvert_exporter": "python",
   "pygments_lexer": "ipython3",
   "version": "3.12.0"
  }
 },
 "nbformat": 4,
 "nbformat_minor": 5
}
