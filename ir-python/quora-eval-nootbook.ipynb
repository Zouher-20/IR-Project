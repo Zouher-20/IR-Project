{
 "cells": [
  {
   "cell_type": "code",
   "execution_count": null,
   "metadata": {},
   "outputs": [],
   "source": [
    "from DatasetService import load_quora_docs,load_quora_qrels,load_quora_queries\n",
    "from IndexingService import build_index,create_vectorizer\n",
    "from EvaluationService import get_queries_results,evaluate_ir_system"
   ]
  },
  {
   "cell_type": "code",
   "execution_count": 7,
   "metadata": {},
   "outputs": [],
   "source": [
    "quora_docs = load_quora_docs().set_index(\"_id\", drop=False)\n",
    "quora_vectorizer = create_vectorizer(quora_docs[\"text\"], \"index-files/quora-vec.pkl\")\n",
    "quora_index = build_index(\n",
    "    quora_docs,\n",
    "    \"index-files/quora.pkl\",\n",
    "    \"text\",\n",
    "    quora_vectorizer,\n",
    ")"
   ]
  },
  {
   "cell_type": "code",
   "execution_count": null,
   "metadata": {},
   "outputs": [],
   "source": [
    "qrels = load_quora_qrels()"
   ]
  },
  {
   "cell_type": "code",
   "execution_count": null,
   "metadata": {},
   "outputs": [],
   "source": [
    "queries = load_quora_queries()"
   ]
  },
  {
   "cell_type": "code",
   "execution_count": null,
   "metadata": {},
   "outputs": [],
   "source": [
    "retrieved_queries = get_queries_results(\n",
    "    queries,\n",
    "    quora_docs,\n",
    "    quora_index,\n",
    "    quora_vectorizer,\n",
    "    \"text\",\n",
    "    \"text\",\n",
    "    \"_id\",\n",
    "    \"index-files/qura_queries.pkl\",\n",
    ")"
   ]
  },
  {
   "cell_type": "code",
   "execution_count": null,
   "metadata": {},
   "outputs": [],
   "source": [
    "\n",
    "\n",
    "eval_res = evaluate_ir_system(qrels,retrieved_queries)\n",
    "eval_res[\"mean_average_precision\"]"
   ]
  }
 ],
 "metadata": {
  "kernelspec": {
   "display_name": ".venv",
   "language": "python",
   "name": "python3"
  },
  "language_info": {
   "codemirror_mode": {
    "name": "ipython",
    "version": 3
   },
   "file_extension": ".py",
   "mimetype": "text/x-python",
   "name": "python",
   "nbconvert_exporter": "python",
   "pygments_lexer": "ipython3",
   "version": "3.12.0"
  }
 },
 "nbformat": 4,
 "nbformat_minor": 2
}
