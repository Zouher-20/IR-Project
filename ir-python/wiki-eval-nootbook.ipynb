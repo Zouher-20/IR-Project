{
 "cells": [
  {
   "cell_type": "code",
   "execution_count": null,
   "metadata": {},
   "outputs": [],
   "source": [
    "from DatasetService import load_wiki_docs,load_wiki_qrels,load_wiki_queries\n",
    "from IndexingService import build_index,create_vectorizer\n",
    "from EvaluationService import get_queries_results,evaluate_ir_system\n",
    "from EvaluationService import evaluate_ir_system\n"
   ]
  },
  {
   "cell_type": "code",
   "execution_count": 2,
   "metadata": {},
   "outputs": [],
   "source": [
    "wiki_docs = load_wiki_docs().set_index(\"id_right\", drop=False)\n",
    "wiki_vectorizer = create_vectorizer(wiki_docs[\"text_right\"], \"index-files/wiki-vec.pkl\")\n",
    "wiki_index = build_index(\n",
    "    wiki_docs,\n",
    "    \"index-files/wiki.pkl\",\n",
    "    \"text_right\",\n",
    "    wiki_vectorizer,\n",
    ")"
   ]
  },
  {
   "cell_type": "code",
   "execution_count": null,
   "metadata": {},
   "outputs": [],
   "source": [
    "qrels = load_wiki_qrels()"
   ]
  },
  {
   "cell_type": "code",
   "execution_count": null,
   "metadata": {},
   "outputs": [],
   "source": [
    "queries = load_wiki_queries()"
   ]
  },
  {
   "cell_type": "code",
   "execution_count": null,
   "metadata": {},
   "outputs": [],
   "source": [
    "retrieved_queries = get_queries_results(\n",
    "    queries,\n",
    "    wiki_docs,\n",
    "    wiki_index,\n",
    "    wiki_vectorizer,\n",
    "    \"text_right\",\n",
    "    \"text_left\",\n",
    "    \"id_left\",\n",
    "    \"index-files/wiki_queries.pkl\",\n",
    ")"
   ]
  },
  {
   "cell_type": "code",
   "execution_count": null,
   "metadata": {},
   "outputs": [],
   "source": [
    "eval_res = evaluate_ir_system(qrels,retrieved_queries)\n",
    "eval_res"
   ]
  }
 ],
 "metadata": {
  "kernelspec": {
   "display_name": ".venv",
   "language": "python",
   "name": "python3"
  },
  "language_info": {
   "codemirror_mode": {
    "name": "ipython",
    "version": 3
   },
   "file_extension": ".py",
   "mimetype": "text/x-python",
   "name": "python",
   "nbconvert_exporter": "python",
   "pygments_lexer": "ipython3",
   "version": "3.12.0"
  }
 },
 "nbformat": 4,
 "nbformat_minor": 2
}
